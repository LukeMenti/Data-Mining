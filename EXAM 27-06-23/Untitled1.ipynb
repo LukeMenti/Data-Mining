{
 "cells": [
  {
   "cell_type": "code",
   "execution_count": 17,
   "id": "2df0eec6",
   "metadata": {},
   "outputs": [
    {
     "data": {
      "text/html": [
       "28.8"
      ],
      "text/latex": [
       "28.8"
      ],
      "text/markdown": [
       "28.8"
      ],
      "text/plain": [
       "[1] 28.8"
      ]
     },
     "metadata": {},
     "output_type": "display_data"
    }
   ],
   "source": [
    "(30*12+30*6+26*6+29*6+30*6+30*6+28*12+29*6+27*6+28*6+28*6+29*6+30*6)/90"
   ]
  },
  {
   "cell_type": "code",
   "execution_count": null,
   "id": "62aa1928",
   "metadata": {},
   "outputs": [],
   "source": []
  }
 ],
 "metadata": {
  "kernelspec": {
   "display_name": "R",
   "language": "R",
   "name": "ir"
  },
  "language_info": {
   "codemirror_mode": "r",
   "file_extension": ".r",
   "mimetype": "text/x-r-source",
   "name": "R",
   "pygments_lexer": "r",
   "version": "3.6.1"
  }
 },
 "nbformat": 4,
 "nbformat_minor": 5
}
